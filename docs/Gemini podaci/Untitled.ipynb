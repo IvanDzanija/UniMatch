{
 "cells": [
  {
   "cell_type": "code",
   "execution_count": 10,
   "id": "ec6e2b38-9df0-43cd-af6a-66c32444c697",
   "metadata": {},
   "outputs": [
    {
     "name": "stdout",
     "output_type": "stream",
     "text": [
      "Data successfully written to Universities_DataFull_Gemini.xlsx\n"
     ]
    }
   ],
   "source": [
    "import re\n",
    "import pandas as pd\n",
    "\n",
    "# Define the regex pattern to extract data\n",
    "pattern = r\"\"\"\n",
    "Country:\\s(?P<Country>.*?)\\n\n",
    "University:\\s(?P<University>.*?)\\n\n",
    "CollegeRank:\\s*(?P<CollegeRank>Not globally ranked|\\d+\\+?|\\d+-\\d+)\\s*(?:\\([^)]*\\))?\\s*\\n\n",
    "Tuition\\s\\(EUR/year\\):\\s(?P<Tuition>[\\d,]+)(?:\\s*\\(.*?\\))?\\n\n",
    "Percentage\\sof\\sInternational\\sStudents:\\s(?P<PercOfIntStud>\\d+%?)(?:\\s*\\(.*?\\))?\\n\n",
    "Acceptance\\sRate:\\s(?P<AcceptanceRate>\\d+%)(?:\\s*\\(.*?\\))?\\n\n",
    "Average\\sSafety\\sIndex\\s\\(0-100\\):\\s(?P<AvgSafetyIndex>\\d+)(?:\\s*\\(.*?\\))?\\n\n",
    "Cost\\sof\\sLiving\\s\\(EUR/month\\):\\s(?P<CostOfLiving>[\\d,]+)(?:\\s*\\(.*?\\))?\\n\n",
    "Rent\\s\\(EUR/month\\):\\s(?P<Rent>[\\d,]+)\\n\n",
    "Groceries\\s\\(EUR/month\\):\\s(?P<Groceries>[\\d,]+)\\n\n",
    "Recreation\\sCost\\s\\(EUR/month\\):\\s(?P<RecreationCost>[\\d,]+)\\n\n",
    "Healthcare\\sPrice\\s\\(EUR/year\\):\\s(?P<HealthcarePrice>[\\d,]+)\\n\n",
    "Average\\sMonthly\\sTransportation\\sCost\\s\\(EUR/month\\):\\s(?P<AvgMntTransportCost>[\\d,]+)\\n\n",
    "Link:\\s(?P<Link>.*?)\\n\n",
    "Majors:\\s(?P<Majors>.*?)$\n",
    "\"\"\"\n",
    "\n",
    "# Preprocess numeric fields by removing commas\n",
    "def preprocess_numeric_fields(row):\n",
    "    numeric_fields = [\n",
    "        'Tuition', 'CostOfLiving', 'Rent', \n",
    "        'Groceries', 'RecreationCost', \n",
    "        'HealthcarePrice', 'AvgMntTransportCost'\n",
    "    ]\n",
    "    for key in numeric_fields:\n",
    "        if key in row and isinstance(row[key], str):\n",
    "            row[key] = row[key].replace(\",\", \"\")\n",
    "    percentage_fields = ['PercOfIntStud', 'AcceptanceRate']\n",
    "    for key in percentage_fields:\n",
    "        if key in row and isinstance(row[key], str):\n",
    "            row[key] = int(row[key].replace('%', ''))\n",
    "    \n",
    "    return row\n",
    "\n",
    "# Extract data from text\n",
    "def extract_data(text):\n",
    "    matches = re.finditer(pattern, text, re.VERBOSE | re.MULTILINE)\n",
    "    data = []\n",
    "    for match in matches:\n",
    "        row = match.groupdict()\n",
    "        row = preprocess_numeric_fields(row)  # Preprocess numeric fields\n",
    "        # Parse Majors into separate columns with 1/0 values\n",
    "        majors = {major.split(\" (\")[0].strip(): int(major.split(\" (\")[1].strip(\")\")) for major in row.pop(\"Majors\").split(\", \")}\n",
    "        row.update(majors)\n",
    "        data.append(row)\n",
    "    return data\n",
    "\n",
    "# Preprocess text to remove empty lines\n",
    "def preprocess_text(text):\n",
    "    return \"\\n\".join([line.strip() for line in text.splitlines() if line.strip()])\n",
    "\n",
    "# Input text file containing university data\n",
    "input_file = 'universities.txt'\n",
    "\n",
    "# Read and preprocess the text file\n",
    "with open(input_file, 'r') as file:\n",
    "    raw_text = file.read()\n",
    "\n",
    "# Clean the text by removing empty lines\n",
    "cleaned_text = preprocess_text(raw_text)\n",
    "\n",
    "# Extract data into structured format\n",
    "data = extract_data(cleaned_text)\n",
    "\n",
    "# Create a DataFrame\n",
    "df = pd.DataFrame(data)\n",
    "\n",
    "# Save to Excel\n",
    "# Please do not use Excel if you have \n",
    "output_file = 'Universities_DataFull_Gemini.xlsx'\n",
    "df.to_excel(output_file, index=False)\n",
    "\n",
    "print(f\"Data successfully written to {output_file}\")"
   ]
  },
  {
   "cell_type": "code",
   "execution_count": null,
   "id": "98cf5df7-12b9-4bb4-bb46-e04dbb7b75d2",
   "metadata": {},
   "outputs": [],
   "source": []
  }
 ],
 "metadata": {
  "kernelspec": {
   "display_name": "Python 3 (ipykernel)",
   "language": "python",
   "name": "python3"
  },
  "language_info": {
   "codemirror_mode": {
    "name": "ipython",
    "version": 3
   },
   "file_extension": ".py",
   "mimetype": "text/x-python",
   "name": "python",
   "nbconvert_exporter": "python",
   "pygments_lexer": "ipython3",
   "version": "3.12.1"
  }
 },
 "nbformat": 4,
 "nbformat_minor": 5
}
