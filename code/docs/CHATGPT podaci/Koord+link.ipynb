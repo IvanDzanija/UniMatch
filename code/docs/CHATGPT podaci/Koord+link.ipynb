{
 "cells": [
  {
   "cell_type": "code",
   "execution_count": 6,
   "id": "e221c0ee-2de6-4f01-8edd-f049ea38640e",
   "metadata": {},
   "outputs": [
    {
     "name": "stdout",
     "output_type": "stream",
     "text": [
      "Data saved to coord.xlsx\n"
     ]
    }
   ],
   "source": [
    "import pandas as pd\n",
    "\n",
    "def normalize_coordinates(coord):\n",
    "    \"\"\"\n",
    "    Normalize a coordinate string by:\n",
    "    - Removing '°' and direction letters (N, E, S, W)\n",
    "    - Adding a negative sign for 'S' (South) and 'W' (West)\n",
    "    \"\"\"\n",
    "    # Remove the '°' symbol and strip whitespace\n",
    "    value, direction = coord.replace(\"°\", \"\").strip()[:-1], coord.strip()[-1]\n",
    "    value = float(value)  # Convert to a float\n",
    "    if direction in [\"S\", \"W\"]:\n",
    "        return -value\n",
    "    return value\n",
    "\n",
    "# Read data from file\n",
    "with open(\"coord.txt\", \"r\", encoding=\"utf-8\") as file:\n",
    "    lines = [line.strip() for line in file if line.strip()]  # Remove empty lines and strip whitespace\n",
    "\n",
    "# Parse the data\n",
    "universities = []\n",
    "i = 0\n",
    "while i < len(lines):\n",
    "    university = lines[i]\n",
    "    website = lines[i + 1].split(\": \")[1]\n",
    "    coords = lines[i + 2].split(\": \")[1]\n",
    "    coord1, coord2 = coords.split(\", \")\n",
    "    coord1 = normalize_coordinates(coord1)\n",
    "    coord2 = normalize_coordinates(coord2)\n",
    "    universities.append([university, website, coord1, coord2])\n",
    "    i += 3  # Move to the next block of university data\n",
    "\n",
    "# Create a DataFrame\n",
    "df = pd.DataFrame(universities, columns=[\"University\", \"Website\", \"Latitude\", \"Longitude\"])\n",
    "\n",
    "# Save to Excel\n",
    "output_path = \"coord.xlsx\"\n",
    "df.to_excel(output_path, index=False)\n",
    "print(f\"Data saved to {output_path}\")"
   ]
  },
  {
   "cell_type": "code",
   "execution_count": null,
   "id": "1db46464-c366-4046-8ad0-623be4547986",
   "metadata": {},
   "outputs": [],
   "source": []
  }
 ],
 "metadata": {
  "kernelspec": {
   "display_name": "Python 3 (ipykernel)",
   "language": "python",
   "name": "python3"
  },
  "language_info": {
   "codemirror_mode": {
    "name": "ipython",
    "version": 3
   },
   "file_extension": ".py",
   "mimetype": "text/x-python",
   "name": "python",
   "nbconvert_exporter": "python",
   "pygments_lexer": "ipython3",
   "version": "3.12.1"
  }
 },
 "nbformat": 4,
 "nbformat_minor": 5
}
