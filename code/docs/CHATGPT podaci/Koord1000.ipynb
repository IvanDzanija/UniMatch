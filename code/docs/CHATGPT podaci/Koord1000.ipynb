{
 "cells": [
  {
   "cell_type": "code",
   "execution_count": 1,
   "id": "60cc3a1d-5b3b-44de-81e8-b737c889626a",
   "metadata": {},
   "outputs": [
    {
     "name": "stdout",
     "output_type": "stream",
     "text": [
      "Data saved to coord1000.xlsx\n"
     ]
    }
   ],
   "source": [
    "import pandas as pd\n",
    "\n",
    "def normalize_coordinates(coord):\n",
    "    \"\"\"\n",
    "    Normalize a coordinate string by:\n",
    "    - Removing '°' and direction letters (N, E, S, W)\n",
    "    - Adding a negative sign for 'S' (South) and 'W' (West)\n",
    "    \"\"\"\n",
    "    # Remove the '°' symbol and strip whitespace\n",
    "    value, direction = coord.replace(\"°\", \"\").strip()[:-1], coord.strip()[-1]\n",
    "    value = float(value)  # Convert to a float\n",
    "    if direction in [\"S\", \"W\"]:\n",
    "        return -value\n",
    "    return value\n",
    "\n",
    "# Read data from file\n",
    "with open(\"coord1000.txt\", \"r\", encoding=\"utf-8\") as file:\n",
    "    lines = [line.strip() for line in file if line.strip()]  # Remove empty lines and strip whitespace\n",
    "\n",
    "# Parse the data\n",
    "universities = []\n",
    "i = 0\n",
    "while i < len(lines):\n",
    "    university = lines[i]\n",
    "    coords = lines[i + 1].split(\": \")[1]\n",
    "    coord1, coord2 = coords.split(\", \")\n",
    "    coord1 = normalize_coordinates(coord1)\n",
    "    coord2 = normalize_coordinates(coord2)\n",
    "    universities.append([university, coord1, coord2])  # No website column\n",
    "    i += 2  # Move to the next block of university data\n",
    "\n",
    "# Create a DataFrame without the Website column\n",
    "df = pd.DataFrame(universities, columns=[\"University\", \"Latitude\", \"Longitude\"])\n",
    "\n",
    "# Save to Excel\n",
    "output_path = \"coord1000.xlsx\"\n",
    "df.to_excel(output_path, index=False)\n",
    "print(f\"Data saved to {output_path}\")"
   ]
  },
  {
   "cell_type": "code",
   "execution_count": null,
   "id": "899b7f69-7bf0-490d-83e3-bfe2ee047912",
   "metadata": {},
   "outputs": [],
   "source": []
  }
 ],
 "metadata": {
  "kernelspec": {
   "display_name": "Python 3 (ipykernel)",
   "language": "python",
   "name": "python3"
  },
  "language_info": {
   "codemirror_mode": {
    "name": "ipython",
    "version": 3
   },
   "file_extension": ".py",
   "mimetype": "text/x-python",
   "name": "python",
   "nbconvert_exporter": "python",
   "pygments_lexer": "ipython3",
   "version": "3.12.1"
  }
 },
 "nbformat": 4,
 "nbformat_minor": 5
}
