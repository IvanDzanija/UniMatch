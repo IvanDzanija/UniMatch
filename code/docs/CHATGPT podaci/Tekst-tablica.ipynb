{
 "cells": [
  {
   "cell_type": "code",
   "execution_count": 5,
   "id": "a7f61c64-5d3e-4fe9-8af3-29529bf96cf7",
   "metadata": {},
   "outputs": [
    {
     "name": "stdout",
     "output_type": "stream",
     "text": [
      "Data successfully written to Universities_DataCoord.xlsx\n"
     ]
    }
   ],
   "source": [
    "import re\n",
    "import pandas as pd\n",
    "\n",
    "# Preprocess text to remove empty lines\n",
    "def preprocess_text(text):\n",
    "    return \"\\n\".join([line.strip() for line in text.splitlines() if line.strip()])\n",
    "\n",
    "# Define a function to extract university data from text\n",
    "def extract_data(text):\n",
    "    pattern = r\"\"\"\n",
    "    Country:\\s(?P<Country>.*?)\\n\n",
    "    University:\\s(?P<University>.*?)\\n\n",
    "    CollegeRank:\\s(?P<CollegeRank>.*?)\\n\n",
    "    Tuition\\s\\(EUR/year\\):\\s(?P<Tuition>\\d+)\\n\n",
    "    PercOfIntStud:\\s(?P<PercOfIntStud>\\d+%)\\n\n",
    "    AcceptanceRate\\s\\(%\\):\\s(?P<AcceptanceRate>\\d+%)\\n\n",
    "    AvgSafetyIndex\\s\\(0-100\\):\\s(?P<AvgSafetyIndex>\\d+)\\n\n",
    "    CostOfLiving\\s\\(EUR/month\\):\\s(?P<CostOfLiving>\\d+)\\n\n",
    "    Rent\\s\\(EUR/month\\):\\s(?P<Rent>\\d+)\\n\n",
    "    Groceries\\s\\(EUR/month\\):\\s(?P<Groceries>\\d+)\\n\n",
    "    RecreationCost\\s\\(EUR/month\\):\\s(?P<RecreationCost>\\d+)\\n\n",
    "    HealthcarePrice\\s\\(EUR/year\\):\\s(?P<HealthcarePrice>\\d+)\\n\n",
    "    AvgMntTransportCost\\s\\(EUR/month\\):\\s(?P<AvgMntTransportCost>\\d+)\\n\n",
    "    Link:\\s(?P<Link>.*?)\\n\n",
    "    Majors:\\s(?P<Majors>.*?)$\n",
    "    \"\"\"\n",
    "    matches = re.finditer(pattern, text, re.VERBOSE | re.MULTILINE)\n",
    "    data = []\n",
    "    for match in matches:\n",
    "        row = match.groupdict()\n",
    "\n",
    "        row['PercOfIntStud'] = int(row['PercOfIntStud'].replace('%', ''))\n",
    "        row['AcceptanceRate'] = int(row['AcceptanceRate'].replace('%', ''))\n",
    "        \n",
    "        # Parse Majors into separate columns with 1/0 values\n",
    "        majors = {major.split(\" (\")[0].strip(): int(major.split(\" (\")[1].strip(\")\")) for major in row.pop(\"Majors\").split(\", \")}\n",
    "        row.update(majors)\n",
    "        data.append(row)\n",
    "    return data\n",
    "\n",
    "# Input text file containing university data\n",
    "input_file = 'universities.txt'\n",
    "coord_file = 'coord.xlsx'\n",
    "\n",
    "# Read and preprocess the text file\n",
    "with open(input_file, 'r') as file:\n",
    "    raw_text = file.read()\n",
    "\n",
    "# Clean the text by removing empty lines\n",
    "cleaned_text = preprocess_text(raw_text)\n",
    "\n",
    "# Extract data into structured format\n",
    "data = extract_data(cleaned_text)\n",
    "\n",
    "# Create a DataFrame\n",
    "df = pd.DataFrame(data)\n",
    "geo_df = pd.read_excel(coord_file)\n",
    "\n",
    "merged_df = pd.merge(df, geo_df, on='University', how='left')\n",
    "\n",
    "merged_df['Link'] = merged_df['Website']\n",
    "merged_df = merged_df.drop(columns=['Website'])\n",
    "\n",
    "# Save to Excel\n",
    "output_file = 'Universities_DataCoord.xlsx'\n",
    "merged_df.to_excel(output_file, index=False)\n",
    "\n",
    "print(f\"Data successfully written to {output_file}\")"
   ]
  },
  {
   "cell_type": "code",
   "execution_count": null,
   "id": "9202492e-6196-466f-9397-bd826f8c34c8",
   "metadata": {},
   "outputs": [],
   "source": []
  },
  {
   "cell_type": "code",
   "execution_count": null,
   "id": "87545ea1-ffa6-46fa-8905-33b4a54c6d77",
   "metadata": {},
   "outputs": [],
   "source": []
  },
  {
   "cell_type": "code",
   "execution_count": null,
   "id": "b0095d26-0fdc-4459-b4c9-273e9387ce75",
   "metadata": {},
   "outputs": [],
   "source": []
  },
  {
   "cell_type": "code",
   "execution_count": null,
   "id": "94c6f34c-eca1-4214-b502-f1f9b4f40621",
   "metadata": {},
   "outputs": [],
   "source": []
  }
 ],
 "metadata": {
  "kernelspec": {
   "display_name": "Python 3 (ipykernel)",
   "language": "python",
   "name": "python3"
  },
  "language_info": {
   "codemirror_mode": {
    "name": "ipython",
    "version": 3
   },
   "file_extension": ".py",
   "mimetype": "text/x-python",
   "name": "python",
   "nbconvert_exporter": "python",
   "pygments_lexer": "ipython3",
   "version": "3.12.1"
  }
 },
 "nbformat": 4,
 "nbformat_minor": 5
}
