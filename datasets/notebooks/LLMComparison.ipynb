{
 "cells": [
  {
   "cell_type": "markdown",
   "id": "252b2a11-3683-4198-b1fe-2b868f3b1d72",
   "metadata": {},
   "source": [
    "# LLM Generated Data"
   ]
  },
  {
   "cell_type": "markdown",
   "id": "c55dfb74-8942-4052-9b87-485841515ab5",
   "metadata": {},
   "source": [
    "We have prompted a couple of free and well know LLM's for and reproduction of additional data since we had to spend a long time finding the data ourselves. In this notebook we will compare the data and possibly merge it into our data set."
   ]
  },
  {
   "cell_type": "code",
   "execution_count": 288,
   "id": "42d6d075-d6d4-4b5f-8239-4163cf41a2a9",
   "metadata": {},
   "outputs": [],
   "source": [
    "import pandas as pd\n",
    "import matplotlib.pyplot as plt\n",
    "import os\n",
    "from fuzzywuzzy import process\n",
    "import openpyxl\n",
    "import warnings\n",
    "warnings.filterwarnings(\"ignore\")"
   ]
  },
  {
   "cell_type": "code",
   "execution_count": 289,
   "id": "183b8792-b4d0-4d9b-8867-a45ab002d7c5",
   "metadata": {},
   "outputs": [],
   "source": [
    "# get current working directory \n",
    "cwd = os.getcwd() + \"/../LLM_generated/\"\n",
    "# print(cwd)\n",
    "df = pd.read_csv(cwd + \"raw.csv\")\n",
    "completeDF = pd.read_csv(cwd + \"../completeDatasets/pricesComplete.csv\")                "
   ]
  },
  {
   "cell_type": "markdown",
   "id": "52660c9f-4a76-415e-8759-7c989941036a",
   "metadata": {},
   "source": [
    "### Now we rename all the same columns and we which ones we are missing"
   ]
  },
  {
   "cell_type": "code",
   "execution_count": 290,
   "id": "8b7b4be4-bd98-4d5b-82c4-3051075f18e1",
   "metadata": {},
   "outputs": [
    {
     "name": "stdout",
     "output_type": "stream",
     "text": [
      "Columns we had in the original data set but couldn't get from the LLM's:  {'region'}\n"
     ]
    }
   ],
   "source": [
    "df = df.rename(columns={\"CollegeRank\": \"Ranking\", \"CostOfLiving\": \"LivingCost\", \"HealthcarePrice\" : \"HealthcareCost\", \"Rent\": \"RentCost\", \"Groceries\": \"GroceriesCost\", \"AvgMntTransportCost\" : \"TransportCost\" ,\"AvgSafetyIndex\": \"SafetyIndex\"})\n",
    "s1 = set(name.lower() for name in list(completeDF.columns))\n",
    "s2 = set(name.lower() for name in list(df.columns))\n",
    "print(\"Columns we had in the original data set but couldn't get from the LLM's: \", s1.difference(s2))"
   ]
  },
  {
   "cell_type": "markdown",
   "id": "61f68611-a272-4021-a474-45211ccba2a3",
   "metadata": {},
   "source": [
    "We are missing the continent of as named region. We will merge it with our original continent.csv file"
   ]
  },
  {
   "cell_type": "code",
   "execution_count": 291,
   "id": "d78469a4-de4d-4a74-8e53-ccc83b46ec69",
   "metadata": {},
   "outputs": [],
   "source": [
    "# Adding continent factor\n",
    "continent = pd.read_csv(\"../fillers/continent.csv\")\n",
    "continent = continent.rename(columns = {\"name\": \"Country\"})\n",
    "continent.head()\n",
    "continent.loc[continent[\"region\"] == \"Americas\", \"region\"] = continent[\"sub-region\"]\n",
    "continent.loc[continent[\"region\"] == \"Latin America and the Caribbean\", \"region\"] = \"Southern America\"\n",
    "continent= continent.rename(columns={\"name\": \"country\"})\n",
    "# df = pd.merge(df, continent[[\"Country\", \"region\"]], on=\"Country\", how =\"left\")\n",
    "# df.info()"
   ]
  },
  {
   "cell_type": "markdown",
   "id": "851699aa-4aea-41cd-868d-d81ff4bf0ab2",
   "metadata": {},
   "source": [
    "We see that we have only 223 values filled in region column while we have 357 columns otherwise. This happens because some countries are named differently in two dataset for example USA and United States of America."
   ]
  },
  {
   "cell_type": "markdown",
   "id": "6c44af76-f206-4214-85e9-eb104d1f15b8",
   "metadata": {},
   "source": [
    "### 1. Normalize names"
   ]
  },
  {
   "cell_type": "code",
   "execution_count": 292,
   "id": "d6e5386e-ae0a-4393-b2d7-da8c1946597b",
   "metadata": {},
   "outputs": [],
   "source": [
    "df[\"Country\"] = df[\"Country\"].str.upper().str.strip()\n",
    "continent[\"Country\"] = continent[\"Country\"].str.upper().str.strip()\n",
    "continent[\"Country\"] = continent[\"Country\"].str.split(\",\").str[0]\n",
    "# df = pd.merge(df, continent[[\"Country\", \"region\"]], on=\"Country\", how =\"left\")\n",
    "# df.info()"
   ]
  },
  {
   "cell_type": "markdown",
   "id": "6e90ba22-3f99-4edc-8e21-e8708b32cb18",
   "metadata": {},
   "source": [
    "We see only a small improvement. +5 entries."
   ]
  },
  {
   "cell_type": "markdown",
   "id": "0d36bf23-0c24-4179-a262-1585ddf562c3",
   "metadata": {},
   "source": [
    "### 2. Manual mapping"
   ]
  },
  {
   "cell_type": "code",
   "execution_count": 293,
   "id": "0942efdc-8dfa-4874-ac81-c34b120c1192",
   "metadata": {},
   "outputs": [],
   "source": [
    "# Thank you ChatGPT for manual labor\n",
    "countryMapping = {\n",
    "    # United States\n",
    "    \"USA\": \"UNITED STATES\",\n",
    "    \"US\": \"UNITED STATES\",\n",
    "    \"U.S.\": \"UNITED STATES\",\n",
    "    \"U.S.A.\": \"UNITED STATES\",\n",
    "    \"UNITED STATES OF AMERICA\": \"UNITED STATES\",\n",
    "    \"AMERICA\": \"UNITED STATES\",\n",
    "\n",
    "    # United Kingdom\n",
    "    \"UK\": \"UNITED KINGDOM\",\n",
    "    \"U.K.\": \"UNITED KINGDOM\",\n",
    "    \"BRITAIN\": \"UNITED KINGDOM\",\n",
    "    \"GREAT BRITAIN\": \"UNITED KINGDOM\",\n",
    "    \"ENGLAND\": \"UNITED KINGDOM\",\n",
    "    \"SCOTLAND\": \"UNITED KINGDOM\",\n",
    "    \"WALES\": \"UNITED KINGDOM\",\n",
    "    \"NORTHERN IRELAND\": \"UNITED KINGDOM\",\n",
    "\n",
    "    # South Korea\n",
    "    \"REPUBLIC OF KOREA\": \"SOUTH KOREA\",\n",
    "    \"KOREA, SOUTH\": \"SOUTH KOREA\",\n",
    "    \"SOUTH KOREA\": \"SOUTH KOREA\",\n",
    "    \"KOREA (SOUTH)\": \"SOUTH KOREA\",\n",
    "\n",
    "    # North Korea\n",
    "    \"NORTH KOREA\": \"NORTH KOREA\",\n",
    "    \"KOREA, NORTH\": \"NORTH KOREA\",\n",
    "    \"KOREA (NORTH)\": \"NORTH KOREA\",\n",
    "\n",
    "    # Russia\n",
    "    \"RUSSIA\": \"RUSSIA\",\n",
    "    \"RUSSIAN FEDERATION\": \"RUSSIA\",\n",
    "    \"USSR\": \"RUSSIA\",\n",
    "    \"SOVIET UNION\": \"RUSSIA\",\n",
    "\n",
    "    # China\n",
    "    \"CHINA\": \"CHINA\",\n",
    "    \"PEOPLE'S REPUBLIC OF CHINA\": \"CHINA\",\n",
    "    \"PRC\": \"CHINA\",\n",
    "    \"MAINLAND CHINA\": \"CHINA\",\n",
    "\n",
    "    # India\n",
    "    \"INDIA\": \"INDIA\",\n",
    "    \"REPUBLIC OF INDIA\": \"INDIA\",\n",
    "    \"BHARAT\": \"INDIA\",\n",
    "\n",
    "    # Germany\n",
    "    \"GERMANY\": \"GERMANY\",\n",
    "    \"FEDERAL REPUBLIC OF GERMANY\": \"GERMANY\",\n",
    "    \"WEST GERMANY\": \"GERMANY\",\n",
    "    \"EAST GERMANY\": \"GERMANY\",\n",
    "\n",
    "    # France\n",
    "    \"FRANCE\": \"FRANCE\",\n",
    "    \"REPUBLIC OF FRANCE\": \"FRANCE\",\n",
    "\n",
    "    # Italy\n",
    "    \"ITALY\": \"ITALY\",\n",
    "    \"REPUBLIC OF ITALY\": \"ITALY\",\n",
    "\n",
    "    # Japan\n",
    "    \"JAPAN\": \"JAPAN\",\n",
    "    \"NIPPON\": \"JAPAN\",\n",
    "    \"NIHON\": \"JAPAN\",\n",
    "\n",
    "    # Australia\n",
    "    \"AUSTRALIA\": \"AUSTRALIA\",\n",
    "    \"COMMONWEALTH OF AUSTRALIA\": \"AUSTRALIA\",\n",
    "\n",
    "    # Brazil\n",
    "    \"BRAZIL\": \"BRAZIL\",\n",
    "    \"FEDERATIVE REPUBLIC OF BRAZIL\": \"BRAZIL\",\n",
    "\n",
    "    # Argentina\n",
    "    \"ARGENTINA\": \"ARGENTINA\",\n",
    "    \"REPUBLIC OF ARGENTINA\": \"ARGENTINA\",\n",
    "\n",
    "    # South Africa\n",
    "    \"SOUTH AFRICA\": \"SOUTH AFRICA\",\n",
    "    \"REPUBLIC OF SOUTH AFRICA\": \"SOUTH AFRICA\",\n",
    "\n",
    "    # Saudi Arabia\n",
    "    \"SAUDI ARABIA\": \"SAUDI ARABIA\",\n",
    "    \"KINGDOM OF SAUDI ARABIA\": \"SAUDI ARABIA\",\n",
    "\n",
    "    # Spain\n",
    "    \"SPAIN\": \"SPAIN\",\n",
    "    \"KINGDOM OF SPAIN\": \"SPAIN\",\n",
    "\n",
    "    # Portugal\n",
    "    \"PORTUGAL\": \"PORTUGAL\",\n",
    "    \"REPUBLIC OF PORTUGAL\": \"PORTUGAL\",\n",
    "\n",
    "    # Netherlands\n",
    "    \"NETHERLANDS\": \"NETHERLANDS\",\n",
    "    \"HOLLAND\": \"NETHERLANDS\",\n",
    "    \"KINGDOM OF THE NETHERLANDS\": \"NETHERLANDS\",\n",
    "\n",
    "    # Belgium\n",
    "    \"BELGIUM\": \"BELGIUM\",\n",
    "    \"KINGDOM OF BELGIUM\": \"BELGIUM\",\n",
    "\n",
    "    # Switzerland\n",
    "    \"SWITZERLAND\": \"SWITZERLAND\",\n",
    "    \"SWISS CONFEDERATION\": \"SWITZERLAND\",\n",
    "\n",
    "    # Egypt\n",
    "    \"EGYPT\": \"EGYPT\",\n",
    "    \"ARAB REPUBLIC OF EGYPT\": \"EGYPT\",\n",
    "\n",
    "    # Turkey\n",
    "    \"TURKEY\": \"TURKEY\",\n",
    "    \"REPUBLIC OF TURKEY\": \"TURKEY\",\n",
    "\n",
    "    # Greece\n",
    "    \"GREECE\": \"GREECE\",\n",
    "    \"HELLENIC REPUBLIC\": \"GREECE\",\n",
    "\n",
    "    # Austria\n",
    "    \"AUSTRIA\": \"AUSTRIA\",\n",
    "    \"REPUBLIC OF AUSTRIA\": \"AUSTRIA\",\n",
    "\n",
    "    # New Zealand\n",
    "    \"NEW ZEALAND\": \"NEW ZEALAND\",\n",
    "    \"AOTEAROA\": \"NEW ZEALAND\",\n",
    "\n",
    "    # Ireland\n",
    "    \"IRELAND\": \"IRELAND\",\n",
    "    \"REPUBLIC OF IRELAND\": \"IRELAND\",\n",
    "    \"EIRE\": \"IRELAND\"\n",
    "}"
   ]
  },
  {
   "cell_type": "code",
   "execution_count": 294,
   "id": "da64b620-8baf-4072-93b4-62b1592348bc",
   "metadata": {},
   "outputs": [],
   "source": [
    "df[\"Country\"] = df[\"Country\"].replace(countryMapping)\n",
    "continent[\"Country\"] = continent[\"Country\"].replace(countryMapping)\n",
    "# df = pd.merge(df, continent[[\"Country\", \"region\"]], on=\"Country\", how =\"left\")\n",
    "# df.info()"
   ]
  },
  {
   "cell_type": "markdown",
   "id": "d70b3273-a413-4460-891c-f17af11485ff",
   "metadata": {},
   "source": [
    "Now we see an improvement. +100 entries."
   ]
  },
  {
   "cell_type": "markdown",
   "id": "db95a4f1-4824-4494-88cd-0bb7de86ab72",
   "metadata": {},
   "source": [
    "### 3. Fuzzy matching "
   ]
  },
  {
   "cell_type": "code",
   "execution_count": 295,
   "id": "fa5ae052-babc-4c51-9006-405d09c728c4",
   "metadata": {},
   "outputs": [],
   "source": [
    "# Not effective in our case since only a couple are left\n",
    "# def fuzzy(country, validCountries):\n",
    "#     match, score = process.extractOne(country, validCountries)\n",
    "#     return match if score > 80 else None\n",
    "\n",
    "# valid = df[\"Country\"].unique()\n",
    "# continent[\"Country\"] = continent[\"Country\"].apply(lambda x: fuzzy(x, valid))\n",
    "# df = pd.merge(df, continent[[\"Country\", \"region\"]], on=\"Country\", how =\"left\")\n",
    "# df.info()"
   ]
  },
  {
   "cell_type": "markdown",
   "id": "fae0e5e5-814c-4a18-981e-30655e6b8f50",
   "metadata": {},
   "source": [
    "### 4. Actual manual labor"
   ]
  },
  {
   "cell_type": "code",
   "execution_count": 296,
   "id": "9b75de12-da32-4c6d-bb76-aa0d98482348",
   "metadata": {},
   "outputs": [
    {
     "name": "stdout",
     "output_type": "stream",
     "text": [
      "<class 'pandas.core.frame.DataFrame'>\n",
      "RangeIndex: 363 entries, 0 to 362\n",
      "Data columns (total 27 columns):\n",
      " #   Column            Non-Null Count  Dtype  \n",
      "---  ------            --------------  -----  \n",
      " 0   Country           363 non-null    object \n",
      " 1   University        363 non-null    object \n",
      " 2   Ranking           363 non-null    int64  \n",
      " 3   Tuition           363 non-null    int64  \n",
      " 4   PercOfIntStud     363 non-null    int64  \n",
      " 5   AcceptanceRate    363 non-null    int64  \n",
      " 6   SafetyIndex       363 non-null    int64  \n",
      " 7   LivingCost        363 non-null    int64  \n",
      " 8   RentCost          363 non-null    int64  \n",
      " 9   GroceriesCost     363 non-null    int64  \n",
      " 10  RecreationCost    363 non-null    int64  \n",
      " 11  HealthcareCost    363 non-null    int64  \n",
      " 12  TransportCost     363 non-null    int64  \n",
      " 13  Link              363 non-null    object \n",
      " 14  Computer Science  363 non-null    int64  \n",
      " 15  Business          363 non-null    int64  \n",
      " 16  Economics         363 non-null    int64  \n",
      " 17  Psychology        363 non-null    int64  \n",
      " 18  Biology           363 non-null    int64  \n",
      " 19  Law               363 non-null    int64  \n",
      " 20  Medicine          363 non-null    int64  \n",
      " 21  Mathematics       363 non-null    int64  \n",
      " 22  Art               363 non-null    int64  \n",
      " 23  Physics           363 non-null    int64  \n",
      " 24  Latitude          362 non-null    float64\n",
      " 25  Longitude         362 non-null    float64\n",
      " 26  region            363 non-null    object \n",
      "dtypes: float64(2), int64(21), object(4)\n",
      "memory usage: 76.7+ KB\n"
     ]
    }
   ],
   "source": [
    "# We just add more mapping by hand this time and insert into our continent.csv\n",
    "manualMapping = {\n",
    "    \"KOREA, DEMOCRATIC PEOPLE'S REPUBLIC OF\" : \"SOUTH KOREA\",\n",
    "    \"UNITED KINGDOM OF GREAT BRITAIN AND NORTHERN IRELAND\" : \"UNITED KINGDOM\",\n",
    "    \"TÜRKIYE\": \"Turkey\",\n",
    "    \"CZECHIA\": \"CZECH REPUBLIC\"\n",
    "}\n",
    "continent[\"Country\"] = continent[\"Country\"].replace(manualMapping)\n",
    "df = pd.merge(df, continent[[\"Country\", \"region\"]], on=\"Country\", how =\"left\")\n",
    "df.info()"
   ]
  },
  {
   "cell_type": "markdown",
   "id": "ead4a555-67d8-4085-b1b2-854e8ce3d639",
   "metadata": {},
   "source": [
    "We have filled all rows."
   ]
  },
  {
   "cell_type": "code",
   "execution_count": null,
   "id": "39de8492-efd9-4904-9e70-60d2091b2f1c",
   "metadata": {},
   "outputs": [],
   "source": []
  }
 ],
 "metadata": {
  "kernelspec": {
   "display_name": "Python 3 (ipykernel)",
   "language": "python",
   "name": "python3"
  },
  "language_info": {
   "codemirror_mode": {
    "name": "ipython",
    "version": 3
   },
   "file_extension": ".py",
   "mimetype": "text/x-python",
   "name": "python",
   "nbconvert_exporter": "python",
   "pygments_lexer": "ipython3",
   "version": "3.13.1"
  }
 },
 "nbformat": 4,
 "nbformat_minor": 5
}
