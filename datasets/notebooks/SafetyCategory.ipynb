{
 "cells": [
  {
   "cell_type": "code",
   "execution_count": 5,
   "id": "8b097834-758e-4048-a0e0-0c9463a370c9",
   "metadata": {},
   "outputs": [],
   "source": [
    "import pandas as pd\n",
    "import numpy as np\n",
    "import os\n",
    "\n",
    "\n",
    "dataset_path = os.path.join('..', 'completeDatasets', 'pricesComplete.csv')\n",
    "df = pd.read_csv(dataset_path)\n",
    "\n",
    "df.fillna(np.nan, inplace=True)"
   ]
  },
  {
   "cell_type": "code",
   "execution_count": 6,
   "id": "c334349a-0000-48de-b5cf-16ea9f4a3b33",
   "metadata": {},
   "outputs": [
    {
     "name": "stdout",
     "output_type": "stream",
     "text": [
      "Maximum values of selected columns:\n",
      "ranking           10954.00\n",
      "tuition           57103.90\n",
      "percOfIntStud        53.00\n",
      "acceptanceRate      100.00\n",
      "livingCost         1624.70\n",
      "rentCost           2575.80\n",
      "groceriesCost       595.70\n",
      "recreationCost      133.57\n",
      "healthcareCost     2350.71\n",
      "transportCost       128.92\n",
      "dtype: float64\n",
      "Minimum values of selected columns:\n",
      "ranking             6.00\n",
      "tuition             0.00\n",
      "percOfIntStud       0.00\n",
      "acceptanceRate      4.00\n",
      "livingCost        302.10\n",
      "rentCost           92.00\n",
      "groceriesCost      95.60\n",
      "recreationCost     18.87\n",
      "healthcareCost      6.11\n",
      "transportCost       0.00\n",
      "dtype: float64\n"
     ]
    }
   ],
   "source": [
    "columns_of_interest = [\n",
    "    'ranking', 'tuition', 'percOfIntStud', 'acceptanceRate', \n",
    "    'livingCost', 'rentCost', 'groceriesCost', \n",
    "    'recreationCost', 'healthcareCost', 'transportCost'\n",
    "]\n",
    "\n",
    "max_values = df[columns_of_interest].max()\n",
    "\n",
    "print(\"Maximum values of selected columns:\")\n",
    "print(max_values)\n",
    "\n",
    "min_values = df[columns_of_interest].min()\n",
    "\n",
    "print(\"Minimum values of selected columns:\")\n",
    "print(min_values)"
   ]
  },
  {
   "cell_type": "code",
   "execution_count": 10,
   "id": "767e9172-c951-408e-a2c7-9a965f5b94c8",
   "metadata": {},
   "outputs": [
    {
     "name": "stdout",
     "output_type": "stream",
     "text": [
      "   safetyIndex     safetyCategory\n",
      "0        56.30      medium-safety\n",
      "1        47.94  low-medium-safety\n",
      "2        36.46         low-safety\n",
      "3        77.72        high-safety\n",
      "4        55.96      medium-safety\n"
     ]
    }
   ],
   "source": [
    "\n",
    "def classify_safety(safety_value):\n",
    "    thresholds = {\n",
    "        'low-safety': (0, 40),\n",
    "        'low-medium-safety': (40, 55),\n",
    "        'medium-safety': (55, 65),\n",
    "        'medium-high safety': (65, 75),\n",
    "        'high-safety': (75, 100)\n",
    "    }\n",
    "    \n",
    "    for category, (min_val, max_val) in thresholds.items():\n",
    "        if min_val <= safety_value < max_val:\n",
    "            return category\n",
    "    return 'Unknown'\n",
    "\n",
    "df['safetyCategory'] = df['safetyIndex'].apply(classify_safety)\n",
    "\n",
    "print(df[['safetyIndex', 'safetyCategory']].head())\n",
    "\n",
    "df.to_csv('pricesComplete2.csv', index=False)"
   ]
  }
 ],
 "metadata": {
  "kernelspec": {
   "display_name": "Python 3",
   "language": "python",
   "name": "python3"
  },
  "language_info": {
   "codemirror_mode": {
    "name": "ipython",
    "version": 3
   },
   "file_extension": ".py",
   "mimetype": "text/x-python",
   "name": "python",
   "nbconvert_exporter": "python",
   "pygments_lexer": "ipython3",
   "version": "3.12.1"
  }
 },
 "nbformat": 4,
 "nbformat_minor": 5
}
