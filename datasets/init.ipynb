{
 "cells": [
  {
   "cell_type": "markdown",
   "metadata": {},
   "source": [
    "# Priprema i spajanje skupova podataka"
   ]
  },
  {
   "cell_type": "markdown",
   "metadata": {},
   "source": [
    "U ovoj Jupyter bilježnici ćemo spojiti i očistiti sve prikupljenje podatkovne skupove. Budući da ciljamo prikazati što više različitih destinacija i parametara trebamo od svih prikupljenih skupova napraviti veliki generalni skup iz kojeg ćemo raditi daljnju analizu i eksploraciju. "
   ]
  },
  {
   "cell_type": "markdown",
   "metadata": {},
   "source": [
    "Parametri: sigurnost, trošak studija, trošak hrane, aktivnosti (3), cijena smještaja, javni prijevoz, omjer strani / domaći studenti, zdrastveno osiguranje"
   ]
  },
  {
   "cell_type": "code",
   "execution_count": 42,
   "metadata": {},
   "outputs": [],
   "source": [
    "# Učitavanje potrebnih modula i biblioteka\n",
    "import pandas as pd\n",
    "import numpy as np\n",
    "import math\n",
    "import matplotlib.pyplot as plt\n",
    "import os\n",
    "import warnings\n",
    "warnings.filterwarnings(\"ignore\")"
   ]
  },
  {
   "cell_type": "code",
   "execution_count": 43,
   "metadata": {},
   "outputs": [],
   "source": [
    "# Učitavanje svih datasetova\n",
    "cwd = os.getcwd()\n",
    "#print(cwd)\n",
    "datasets = list()\n",
    "for file in os.listdir():\n",
    "    if file.split('.')[1] == \"csv\":\n",
    "        datasets.append(file)\n",
    "#print(datasets)"
   ]
  },
  {
   "cell_type": "markdown",
   "metadata": {},
   "source": [
    "## Učitavanje indeksa sigurnosti"
   ]
  },
  {
   "cell_type": "code",
   "execution_count": 45,
   "metadata": {},
   "outputs": [],
   "source": [
    "safetyConcat = []\n",
    "years = [2020, 2021, 2022, 2023, 2024]\n",
    "\n",
    "for file in datasets:\n",
    "    if file[:14] == \"crime_rankings\":\n",
    "        tempDF = pd.read_csv(file)\n",
    "        safetyConcat.append(tempDF)\n",
    "\n",
    "mergedDF = pd.concat(safetyConcat, ignore_index=True)\n",
    "df = mergedDF.groupby(\"country\")[\"safety_index\"].mean().reset_index()\n",
    "df.rename(columns={\"safety_index\": \"avgSafetyIndex\"},inplace = True)\n",
    "#print(df.head())"
   ]
  },
  {
   "cell_type": "code",
   "execution_count": null,
   "metadata": {},
   "outputs": [],
   "source": []
  }
 ],
 "metadata": {
  "kernelspec": {
   "display_name": "dataScience",
   "language": "python",
   "name": "python3"
  },
  "language_info": {
   "codemirror_mode": {
    "name": "ipython",
    "version": 3
   },
   "file_extension": ".py",
   "mimetype": "text/x-python",
   "name": "python",
   "nbconvert_exporter": "python",
   "pygments_lexer": "ipython3",
   "version": "3.10.14"
  }
 },
 "nbformat": 4,
 "nbformat_minor": 2
}
