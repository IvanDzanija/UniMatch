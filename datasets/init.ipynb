{
 "cells": [
  {
   "cell_type": "markdown",
   "metadata": {},
   "source": [
    "# Merging and preparation of data sets"
   ]
  },
  {
   "cell_type": "markdown",
   "metadata": {},
   "source": [
    "In this Jupyter notebook we will merge and prepare all of the collected data sets. Since we are aiming to represent as many countries and parameters as we possibly can we need to create a general data set for all categories we can collect. We will then be using that data set for futher analysis and exploration."
   ]
  },
  {
   "cell_type": "markdown",
   "metadata": {},
   "source": [
    "Parameters: <u>safety</u>, tuition, <u>groceries</u>, social & sports activities, <u>rent</u>, public transport, ratio of foreign and domestic students and health & health insurance"
   ]
  },
  {
   "cell_type": "code",
   "execution_count": 12,
   "metadata": {},
   "outputs": [],
   "source": [
    "# Importing modules and libraries\n",
    "import pandas as pd\n",
    "import numpy as np\n",
    "import math\n",
    "import matplotlib.pyplot as plt\n",
    "import os\n",
    "import warnings\n",
    "warnings.filterwarnings(\"ignore\")"
   ]
  },
  {
   "cell_type": "code",
   "execution_count": 13,
   "metadata": {},
   "outputs": [],
   "source": [
    "# Directory searching and collecting data set paths\n",
    "cwd = os.getcwd()\n",
    "#print(cwd)\n",
    "datasets = list()\n",
    "for file in os.listdir():\n",
    "    if file.split('.')[1] == \"csv\":\n",
    "        datasets.append(file)\n",
    "#print(datasets)"
   ]
  },
  {
   "cell_type": "markdown",
   "metadata": {},
   "source": [
    "## Loading safety index data sets"
   ]
  },
  {
   "cell_type": "markdown",
   "metadata": {},
   "source": [
    "We are storing the average value of safety index for given countries in last 5 years. We will use that for the rest of the analysis and calculations. <br>\n",
    "Read about safety index here: <a href=\"https://www.numbeo.com/crime/indices_explained.jsp\">About Crime Indexes</a> or find reference in <a href=\"./../docs/docs.docx\">UniMatch documentation.<a> "
   ]
  },
  {
   "cell_type": "code",
   "execution_count": 14,
   "metadata": {},
   "outputs": [],
   "source": [
    "# Merging and preparing safety index data sets\n",
    "safetyConcat = []\n",
    "years = [2020, 2021, 2022, 2023, 2024]\n",
    "\n",
    "for file in datasets:\n",
    "    if file[:14] == \"crime_rankings\":\n",
    "        tempDF = pd.read_csv(file)\n",
    "        safetyConcat.append(tempDF)\n",
    "\n",
    "mergedDF = pd.concat(safetyConcat, ignore_index=True)\n",
    "df = mergedDF.groupby(\"country\")[\"safety_index\"].mean().reset_index()\n",
    "df.rename(columns={\"safety_index\": \"avgSafetyIndex\"},inplace = True)\n",
    "#df.head()"
   ]
  },
  {
   "cell_type": "markdown",
   "metadata": {},
   "source": [
    "## Loading cost of living data sets"
   ]
  },
  {
   "cell_type": "markdown",
   "metadata": {},
   "source": [
    "We are merging a new data set with general information about costs of living in given countries into our general data set. Out of all the indices available we are choosing: cost of living index, rent index and groceries index.<br>\n",
    "Read about safety index here: <a href=\"https://www.numbeo.com/cost-of-living/cpi_explained.jsp\">Understanding Cost of Living Indexes</a> or find reference in <a href=\"./../docs/docs.docx\">UniMatch documentation.<a> "
   ]
  },
  {
   "cell_type": "code",
   "execution_count": 15,
   "metadata": {},
   "outputs": [],
   "source": [
    "# Merging and preparing cost of living data sets\n",
    "costLiving = pd.read_csv(\"./cli_2024.csv\")\n",
    "costLiving.columns = costLiving.columns.str.lower()\n",
    "#costLiving.head()\n",
    "df = pd.merge(df, costLiving[[\"country\", \"cost of living index\", \"rent index\", \"groceries index\"]], on=\"country\", how =\"inner\")\n",
    "#df.head()\n"
   ]
  },
  {
   "cell_type": "markdown",
   "metadata": {},
   "source": [
    "## Adding continent factor to data set"
   ]
  },
  {
   "cell_type": "markdown",
   "metadata": {},
   "source": [
    "We are adding a factor into our general data. We are looking to do an analysis based on continents for someone interested.<br>"
   ]
  },
  {
   "cell_type": "code",
   "execution_count": 16,
   "metadata": {},
   "outputs": [],
   "source": [
    "# Adding continent factor\n",
    "continent = pd.read_csv(\"./continent.csv\")\n",
    "#continent.head()\n",
    "continent.loc[continent[\"region\"] == \"Americas\", \"region\"] = continent[\"sub-region\"]\n",
    "continent.loc[continent[\"region\"] == \"Latin America and the Caribbean\", \"region\"] = \"Southern America\"\n",
    "continent= continent.rename(columns={\"name\": \"country\"})\n",
    "df = pd.merge(df, continent[[\"country\", \"region\"]], on=\"country\", how =\"left\")\n",
    "#df.head()\n"
   ]
  },
  {
   "cell_type": "markdown",
   "metadata": {},
   "source": [
    "## Loading healthcare price data sets"
   ]
  },
  {
   "cell_type": "markdown",
   "metadata": {},
   "source": [
    "We are merging a another data set into our general data set displaying the healthcare prices for each country. We are obviously choosing the news data for our representation. <br>\n",
    "Read about healthcare prices here: <a href=\"https://databank.worldbank.org/source/health-nutrition-and-population-statistics/preview/on\">Health Statistics</a> or find reference in <a href=\"./../docs/docs.docx\">UniMatch documentation.<a> "
   ]
  },
  {
   "cell_type": "code",
   "execution_count": 17,
   "metadata": {},
   "outputs": [],
   "source": [
    "# Merging healtcare prices\n",
    "health = pd.read_excel(\"health-care.xlsx\")\n",
    "#health.head()\n",
    "health[\"healthcare price\"] = health[\"2021 [YR2021]\"]\n",
    "health= health.rename(columns={\"Country Name\": \"country\"})\n",
    "df = pd.merge(df, health[[\"country\", \"healthcare price\"]], on=\"country\", how =\"left\")\n",
    "df[\"healthcare price\"] = pd.to_numeric(df[\"healthcare price\"], errors='coerce')\n",
    "#df.head()"
   ]
  },
  {
   "cell_type": "markdown",
   "metadata": {},
   "source": [
    "## Loading average monthly cost of public transport"
   ]
  },
  {
   "cell_type": "markdown",
   "metadata": {},
   "source": []
  },
  {
   "cell_type": "code",
   "execution_count": 18,
   "metadata": {},
   "outputs": [
    {
     "data": {
      "text/html": [
       "<div>\n",
       "<style scoped>\n",
       "    .dataframe tbody tr th:only-of-type {\n",
       "        vertical-align: middle;\n",
       "    }\n",
       "\n",
       "    .dataframe tbody tr th {\n",
       "        vertical-align: top;\n",
       "    }\n",
       "\n",
       "    .dataframe thead th {\n",
       "        text-align: right;\n",
       "    }\n",
       "</style>\n",
       "<table border=\"1\" class=\"dataframe\">\n",
       "  <thead>\n",
       "    <tr style=\"text-align: right;\">\n",
       "      <th></th>\n",
       "      <th>country</th>\n",
       "      <th>avgSafetyIndex</th>\n",
       "      <th>cost of living index</th>\n",
       "      <th>rent index</th>\n",
       "      <th>groceries index</th>\n",
       "      <th>region</th>\n",
       "      <th>healthcare price</th>\n",
       "      <th>avgMntTransportCost</th>\n",
       "    </tr>\n",
       "  </thead>\n",
       "  <tbody>\n",
       "    <tr>\n",
       "      <th>0</th>\n",
       "      <td>Albania</td>\n",
       "      <td>56.30</td>\n",
       "      <td>42.1</td>\n",
       "      <td>10.6</td>\n",
       "      <td>42.0</td>\n",
       "      <td>Europe</td>\n",
       "      <td>277.471168</td>\n",
       "      <td>17.500</td>\n",
       "    </tr>\n",
       "    <tr>\n",
       "      <th>1</th>\n",
       "      <td>Algeria</td>\n",
       "      <td>47.94</td>\n",
       "      <td>28.9</td>\n",
       "      <td>3.8</td>\n",
       "      <td>36.8</td>\n",
       "      <td>Africa</td>\n",
       "      <td>78.820208</td>\n",
       "      <td>10.090</td>\n",
       "    </tr>\n",
       "    <tr>\n",
       "      <th>2</th>\n",
       "      <td>Argentina</td>\n",
       "      <td>36.46</td>\n",
       "      <td>29.4</td>\n",
       "      <td>7.6</td>\n",
       "      <td>29.7</td>\n",
       "      <td>Southern America</td>\n",
       "      <td>233.676745</td>\n",
       "      <td>11.000</td>\n",
       "    </tr>\n",
       "    <tr>\n",
       "      <th>3</th>\n",
       "      <td>Armenia</td>\n",
       "      <td>77.72</td>\n",
       "      <td>41.0</td>\n",
       "      <td>19.0</td>\n",
       "      <td>36.0</td>\n",
       "      <td>Asia</td>\n",
       "      <td>482.000000</td>\n",
       "      <td>10.350</td>\n",
       "    </tr>\n",
       "    <tr>\n",
       "      <th>4</th>\n",
       "      <td>Australia</td>\n",
       "      <td>55.96</td>\n",
       "      <td>70.2</td>\n",
       "      <td>33.4</td>\n",
       "      <td>77.3</td>\n",
       "      <td>Oceania</td>\n",
       "      <td>975.402664</td>\n",
       "      <td>114.375</td>\n",
       "    </tr>\n",
       "  </tbody>\n",
       "</table>\n",
       "</div>"
      ],
      "text/plain": [
       "     country  avgSafetyIndex  cost of living index  rent index  \\\n",
       "0    Albania           56.30                  42.1        10.6   \n",
       "1    Algeria           47.94                  28.9         3.8   \n",
       "2  Argentina           36.46                  29.4         7.6   \n",
       "3    Armenia           77.72                  41.0        19.0   \n",
       "4  Australia           55.96                  70.2        33.4   \n",
       "\n",
       "   groceries index            region  healthcare price  avgMntTransportCost  \n",
       "0             42.0            Europe        277.471168               17.500  \n",
       "1             36.8            Africa         78.820208               10.090  \n",
       "2             29.7  Southern America        233.676745               11.000  \n",
       "3             36.0              Asia        482.000000               10.350  \n",
       "4             77.3           Oceania        975.402664              114.375  "
      ]
     },
     "execution_count": 18,
     "metadata": {},
     "output_type": "execute_result"
    }
   ],
   "source": [
    "# Merging monthly cost of public transport\n",
    "monthlyPass = pd.read_csv(\"public_transport.csv\")\n",
    "#monthlyPass.head()\n",
    "df = pd.merge(df, monthlyPass[[\"country\", \"avgMntTransportCost\"]], on=\"country\", how =\"left\")\n",
    "df.head()"
   ]
  },
  {
   "cell_type": "markdown",
   "metadata": {},
   "source": [
    "## Saving general data set to csv, parquet and xlsx"
   ]
  },
  {
   "cell_type": "code",
   "execution_count": 20,
   "metadata": {},
   "outputs": [],
   "source": [
    "df.to_csv('GENERAL.csv', index=False)\n",
    "df.to_excel('GENERAL.xlsx', index=False)\n",
    "df.to_parquet('GENERAL.parquet')"
   ]
  },
  {
   "cell_type": "code",
   "execution_count": null,
   "metadata": {},
   "outputs": [],
   "source": []
  }
 ],
 "metadata": {
  "kernelspec": {
   "display_name": "dataScience",
   "language": "python",
   "name": "python3"
  },
  "language_info": {
   "codemirror_mode": {
    "name": "ipython",
    "version": 3
   },
   "file_extension": ".py",
   "mimetype": "text/x-python",
   "name": "python",
   "nbconvert_exporter": "python",
   "pygments_lexer": "ipython3",
   "version": "3.10.14"
  }
 },
 "nbformat": 4,
 "nbformat_minor": 4
}
